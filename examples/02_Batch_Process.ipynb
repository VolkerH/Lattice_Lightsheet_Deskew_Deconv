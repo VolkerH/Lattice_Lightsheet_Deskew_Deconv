{
 "cells": [
  {
   "cell_type": "markdown",
   "metadata": {},
   "source": [
    "# Batch process an experiment folder \n",
    "\n",
    "This notebook illustrates how to batch process an experiment folder containing several stacks.\n"
   ]
  },
  {
   "cell_type": "code",
   "execution_count": 1,
   "metadata": {},
   "outputs": [],
   "source": [
    "from experiment_folder import *\n",
    "from process_llsm_experiment import  *"
   ]
  },
  {
   "cell_type": "markdown",
   "metadata": {},
   "source": [
    "Intitialize an Experimentfolder class with paths to the experiment folder and the `.json` file containing fixed settings"
   ]
  },
  {
   "cell_type": "code",
   "execution_count": 2,
   "metadata": {},
   "outputs": [],
   "source": [
    "input_folder = \"/projects/mmi-llsm/Experiment_data_by_lab/Ryan_Lab/Felix_Kraus/20181219_Felix_Dendra2_Drp1_test/\"\n",
    "fixed_settings_file = \"/home/vhil0002/Lattice_Lightsheet_Deskew_Deconv/Python/fixed_settings.json\"\n",
    "ef = Experimentfolder(input_folder, fixed_settings_file)"
   ]
  },
  {
   "cell_type": "markdown",
   "metadata": {},
   "source": [
    "Initialize an `ExperimentProcessor` class for a given experiment folder. Specifying an output folder is optional. If no output folder is provided the results are stored in subfolders of the original experiment folder. \n",
    "\n",
    "As I don't have write permission to the source folder I specify a different output folder here. Note that the folder does not have to exist, it will be created if necessary."
   ]
  },
  {
   "cell_type": "code",
   "execution_count": 3,
   "metadata": {},
   "outputs": [],
   "source": [
    "ep = ExperimentProcessor(ef, exp_outfolder=\"/scratch/mmi-llsm/volker_batch_deskew/Experiment_20181219/\")"
   ]
  },
  {
   "cell_type": "markdown",
   "metadata": {},
   "source": [
    "Specify what should de done for these files. Note that are additional processing options that can be set.\n",
    "Some of the options below are set by default and are just shown for illustration purposes. "
   ]
  },
  {
   "cell_type": "code",
   "execution_count": 4,
   "metadata": {},
   "outputs": [],
   "source": [
    "ep.do_MIP = True # create MIPs.\n",
    "\n",
    "ep.do_deskew = True  # deskew the raw data\n",
    "ep.do_rotate = False # don't rotate the raw data, we'll just do this for the deconvolved data\n",
    "\n",
    "ep.do_deconv=True  # deconvolve the raw data\n",
    "ep.do_deconv_rotate = False # don't deskew the deconvolved data\n",
    "ep.do_deconv_deskew = True  # deskew+rotate the coverslip of the deconvolved data\n",
    "\n",
    "ep.skip_existing=True # skip output files that already exist. Useful if a previous processing run was interrupted"
   ]
  },
  {
   "cell_type": "markdown",
   "metadata": {},
   "source": [
    "Set other processing options:"
   ]
  },
  {
   "cell_type": "code",
   "execution_count": 5,
   "metadata": {},
   "outputs": [],
   "source": [
    "ep.deconv_n_iter = 6 # Number of Richardson Lucy iterations to perform when deconvolving\n",
    "ep.bg_subtract_value = 95\n",
    "ep.MIP_method = \"montage\" # output the MIPs as montage. Use \"multi\" if you want to save multiple files (one for each axis) "
   ]
  },
  {
   "cell_type": "markdown",
   "metadata": {},
   "source": [
    "List the different \"Stacks\" contained in the experiment folder. \n",
    "I'm using the terminology as used in the Janelia folder structure here, where a folder in _Stacks_ refers to a sequence of 3D stacks. (I would prefer to call these _timeseries_ and refer to an individual timpoint as as a _stack_)"
   ]
  },
  {
   "cell_type": "code",
   "execution_count": 6,
   "metadata": {},
   "outputs": [
    {
     "data": {
      "text/plain": [
       "['Stack_11_drp1_dendra2skl_mScarletdrp1',\n",
       " 'Stack_3_drp1_dendra2_test_3',\n",
       " 'Stack_6_drp1_dendra2skl_mScarlet_Drp1_test_6',\n",
       " 'Stack_1_drp1_dendra2_test_1',\n",
       " 'Stack_2_drp1_dendra2_test_2',\n",
       " 'Stack_10_drp1_dendra2skl_mScarletdrp1',\n",
       " 'Stack_5_drp1_dendra2skl_mScarlet_Drp1_test_5',\n",
       " 'Stack_9_drp1_dendra2skl_mScarlet_drp1_test_9_fast_40mspause',\n",
       " 'Stack_4_drp1_dendra2skl_dead_test_4',\n",
       " 'Stack_8_drp1_dendra2skl_mScarlet_drp1_test_8_fast',\n",
       " 'Stack_13_drp1_dendra2skl_mScarletdrp1',\n",
       " 'Stack_12_drp1_dendra2skl_mScarletdrp1',\n",
       " 'Stack_7_drp1_dendra2skl_mScarlet_drp1_test_6_fast']"
      ]
     },
     "execution_count": 6,
     "metadata": {},
     "output_type": "execute_result"
    }
   ],
   "source": [
    "ef.stacks"
   ]
  },
  {
   "cell_type": "markdown",
   "metadata": {},
   "source": [
    "Now one can process just a single stack like this:"
   ]
  },
  {
   "cell_type": "code",
   "execution_count": null,
   "metadata": {},
   "outputs": [
    {
     "name": "stderr",
     "output_type": "stream",
     "text": [
      "/home/vhil0002/Lattice_Lightsheet_Deskew_Deconv/Python/process_llsm_experiment.py:236: UserWarning: more than one PSF found. Taking first one\n",
      "  warnings.warn(f\"more than one PSF found. Taking first one\")\n",
      "  7%|▋         | 7/101 [00:23<05:16,  3.37s/it]"
     ]
    }
   ],
   "source": [
    "ep.process_stack_subfolder(ef.stacks[0])"
   ]
  },
  {
   "cell_type": "markdown",
   "metadata": {},
   "source": [
    "Or process all stacks in the experiment folder:"
   ]
  },
  {
   "cell_type": "code",
   "execution_count": null,
   "metadata": {
    "scrolled": true
   },
   "outputs": [],
   "source": [
    "ep.process_all()"
   ]
  }
 ],
 "metadata": {
  "kernelspec": {
   "display_name": "Python 3",
   "language": "python",
   "name": "python3"
  },
  "language_info": {
   "codemirror_mode": {
    "name": "ipython",
    "version": 3
   },
   "file_extension": ".py",
   "mimetype": "text/x-python",
   "name": "python",
   "nbconvert_exporter": "python",
   "pygments_lexer": "ipython3",
   "version": "3.6.6"
  }
 },
 "nbformat": 4,
 "nbformat_minor": 2
}
